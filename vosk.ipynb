{
  "nbformat": 4,
  "nbformat_minor": 0,
  "metadata": {
    "colab": {
      "name": "vosk.ipynb",
      "provenance": [],
      "collapsed_sections": [],
      "authorship_tag": "ABX9TyOaYWbCdnqDP6JH3mf8XGZP",
      "include_colab_link": true
    },
    "kernelspec": {
      "name": "python3",
      "display_name": "Python 3"
    },
    "language_info": {
      "name": "python"
    }
  },
  "cells": [
    {
      "cell_type": "markdown",
      "metadata": {
        "id": "view-in-github",
        "colab_type": "text"
      },
      "source": [
        "<a href=\"https://colab.research.google.com/github/ilndht/ENGR20004_assignment2_section2/blob/main/vosk.ipynb\" target=\"_parent\"><img src=\"https://colab.research.google.com/assets/colab-badge.svg\" alt=\"Open In Colab\"/></a>"
      ]
    },
    {
      "cell_type": "markdown",
      "source": [
        "download libraries\n"
      ],
      "metadata": {
        "id": "bCKa2z20Mgd0"
      }
    },
    {
      "cell_type": "code",
      "execution_count": null,
      "metadata": {
        "colab": {
          "base_uri": "https://localhost:8080/"
        },
        "id": "biHrkf0MfGpo",
        "outputId": "7180ef05-f91e-4301-d18d-bbafee155fc7"
      },
      "outputs": [
        {
          "output_type": "stream",
          "name": "stdout",
          "text": [
            "Looking in indexes: https://pypi.org/simple, https://us-python.pkg.dev/colab-wheels/public/simple/\n",
            "Requirement already satisfied: vosk in /usr/local/lib/python3.7/dist-packages (0.3.42)\n",
            "Requirement already satisfied: tqdm in /usr/local/lib/python3.7/dist-packages (from vosk) (4.64.0)\n",
            "Requirement already satisfied: requests in /usr/local/lib/python3.7/dist-packages (from vosk) (2.23.0)\n",
            "Requirement already satisfied: srt in /usr/local/lib/python3.7/dist-packages (from vosk) (3.5.2)\n",
            "Requirement already satisfied: cffi>=1.0 in /usr/local/lib/python3.7/dist-packages (from vosk) (1.15.0)\n",
            "Requirement already satisfied: pycparser in /usr/local/lib/python3.7/dist-packages (from cffi>=1.0->vosk) (2.21)\n",
            "Requirement already satisfied: idna<3,>=2.5 in /usr/local/lib/python3.7/dist-packages (from requests->vosk) (2.10)\n",
            "Requirement already satisfied: certifi>=2017.4.17 in /usr/local/lib/python3.7/dist-packages (from requests->vosk) (2022.6.15)\n",
            "Requirement already satisfied: urllib3!=1.25.0,!=1.25.1,<1.26,>=1.21.1 in /usr/local/lib/python3.7/dist-packages (from requests->vosk) (1.24.3)\n",
            "Requirement already satisfied: chardet<4,>=3.0.2 in /usr/local/lib/python3.7/dist-packages (from requests->vosk) (3.0.4)\n",
            "Looking in indexes: https://pypi.org/simple, https://us-python.pkg.dev/colab-wheels/public/simple/\n",
            "Requirement already satisfied: ffmpeg-python in /usr/local/lib/python3.7/dist-packages (0.2.0)\n",
            "Requirement already satisfied: future in /usr/local/lib/python3.7/dist-packages (from ffmpeg-python) (0.16.0)\n",
            "Looking in indexes: https://pypi.org/simple, https://us-python.pkg.dev/colab-wheels/public/simple/\n",
            "Requirement already satisfied: pydub in /usr/local/lib/python3.7/dist-packages (0.25.1)\n",
            "Looking in indexes: https://pypi.org/simple, https://us-python.pkg.dev/colab-wheels/public/simple/\n",
            "Requirement already satisfied: moviepy in /usr/local/lib/python3.7/dist-packages (0.2.3.5)\n",
            "Requirement already satisfied: imageio<3.0,>=2.1.2 in /usr/local/lib/python3.7/dist-packages (from moviepy) (2.4.1)\n",
            "Requirement already satisfied: decorator<5.0,>=4.0.2 in /usr/local/lib/python3.7/dist-packages (from moviepy) (4.4.2)\n",
            "Requirement already satisfied: numpy in /usr/local/lib/python3.7/dist-packages (from moviepy) (1.21.6)\n",
            "Requirement already satisfied: tqdm<5.0,>=4.11.2 in /usr/local/lib/python3.7/dist-packages (from moviepy) (4.64.0)\n",
            "Requirement already satisfied: pillow in /usr/local/lib/python3.7/dist-packages (from imageio<3.0,>=2.1.2->moviepy) (7.1.2)\n"
          ]
        }
      ],
      "source": [
        "!pip3 install vosk\n",
        "!pip3 install ffmpeg-python\n",
        "!pip3 install pydub\n",
        "!pip3 install moviepy"
      ]
    },
    {
      "cell_type": "markdown",
      "source": [
        "Import Libraries"
      ],
      "metadata": {
        "id": "6F1Q8lr0MlQ9"
      }
    },
    {
      "cell_type": "code",
      "source": [
        "from vosk import Model, KaldiRecognizer, SetLogLevel\n",
        "import sys\n",
        "import os\n",
        "import wave\n",
        "import json\n",
        "import librosa\n",
        "import soundfile as sf\n",
        "from os import path\n",
        "from pydub import AudioSegment\n",
        "import re\n",
        "import moviepy.editor as mp\n"
      ],
      "metadata": {
        "id": "1z7TBdZNMLlA",
        "colab": {
          "base_uri": "https://localhost:8080/"
        },
        "outputId": "3af9a227-622a-4045-b89f-c6d0279c9200"
      },
      "execution_count": null,
      "outputs": [
        {
          "output_type": "stream",
          "name": "stdout",
          "text": [
            "Imageio: 'ffmpeg-linux64-v3.3.1' was not found on your computer; downloading it now.\n",
            "Try 1. Download from https://github.com/imageio/imageio-binaries/raw/master/ffmpeg/ffmpeg-linux64-v3.3.1 (43.8 MB)\n",
            "Downloading: 8192/45929032 bytes (0.0%)\b\b\b\b\b\b\b\b\b\b\b\b\b\b\b\b\b\b\b\b\b\b\b\b\b\b3178496/45929032 bytes (6.9%)\b\b\b\b\b\b\b\b\b\b\b\b\b\b\b\b\b\b\b\b\b\b\b\b\b\b\b\b\b6692864/45929032 bytes (14.6%)\b\b\b\b\b\b\b\b\b\b\b\b\b\b\b\b\b\b\b\b\b\b\b\b\b\b\b\b\b\b10158080/45929032 bytes (22.1%)\b\b\b\b\b\b\b\b\b\b\b\b\b\b\b\b\b\b\b\b\b\b\b\b\b\b\b\b\b\b\b13565952/45929032 bytes (29.5%)\b\b\b\b\b\b\b\b\b\b\b\b\b\b\b\b\b\b\b\b\b\b\b\b\b\b\b\b\b\b\b16990208/45929032 bytes (37.0%)\b\b\b\b\b\b\b\b\b\b\b\b\b\b\b\b\b\b\b\b\b\b\b\b\b\b\b\b\b\b\b20398080/45929032 bytes (44.4%)\b\b\b\b\b\b\b\b\b\b\b\b\b\b\b\b\b\b\b\b\b\b\b\b\b\b\b\b\b\b\b24002560/45929032 bytes (52.3%)\b\b\b\b\b\b\b\b\b\b\b\b\b\b\b\b\b\b\b\b\b\b\b\b\b\b\b\b\b\b\b27721728/45929032 bytes (60.4%)\b\b\b\b\b\b\b\b\b\b\b\b\b\b\b\b\b\b\b\b\b\b\b\b\b\b\b\b\b\b\b31096832/45929032 bytes (67.7%)\b\b\b\b\b\b\b\b\b\b\b\b\b\b\b\b\b\b\b\b\b\b\b\b\b\b\b\b\b\b\b34684928/45929032 bytes (75.5%)\b\b\b\b\b\b\b\b\b\b\b\b\b\b\b\b\b\b\b\b\b\b\b\b\b\b\b\b\b\b\b38141952/45929032 bytes (83.0%)\b\b\b\b\b\b\b\b\b\b\b\b\b\b\b\b\b\b\b\b\b\b\b\b\b\b\b\b\b\b\b41721856/45929032 bytes (90.8%)\b\b\b\b\b\b\b\b\b\b\b\b\b\b\b\b\b\b\b\b\b\b\b\b\b\b\b\b\b\b\b45154304/45929032 bytes (98.3%)\b\b\b\b\b\b\b\b\b\b\b\b\b\b\b\b\b\b\b\b\b\b\b\b\b\b\b\b\b\b\b45929032/45929032 bytes (100.0%)\n",
            "  Done\n",
            "File saved as /root/.imageio/ffmpeg/ffmpeg-linux64-v3.3.1.\n"
          ]
        }
      ]
    },
    {
      "cell_type": "markdown",
      "source": [
        "Utility functions "
      ],
      "metadata": {
        "id": "XQST6zlUMsJX"
      }
    },
    {
      "cell_type": "code",
      "source": [
        "\n",
        "def convert_mp4_to_wav(file_path):\n",
        "  # function convert mp4 files to wav file \n",
        "  # return the directory of the wav file \n",
        "  assert('wav' not in file_path)\n",
        "  filename= file_path.split('/')[-1]\n",
        "  print(filename)\n",
        "  my_clip = mp.VideoFileClip(file_path)\n",
        "  fileid = filename.split('.')[0]\n",
        "  my_clip.audio.write_audiofile(fileid+\".wav\")\n",
        "  return re.sub(r'\\.\\w+\\b','.wav',file_path)\n",
        "\n",
        "def get_text(file_path,model):\n",
        "  # get_text function return a json file from the directory of the wav file and create a new standard file form of the input file \n",
        "  # input : wavfile in str type \n",
        "  # model : \n",
        "  # output :dictionary object with 3 keys : 'directory', 'text ' and 'result'\n",
        "  filename = file_path.split('/')[-1]\n",
        "  newpath = r'/content/standardized/' \n",
        "  if not os.path.exists(newpath):\n",
        "      os.makedirs(newpath)\n",
        "\n",
        "  if 'wav' not in filename: \n",
        "    filename = re.sub(r'\\.\\w+','.wav',filename)\n",
        "\n",
        "  x,_ = librosa.load(file_path, sr=16000)\n",
        "  sf.write('/content/standardized/'+filename, x, 16000)\n",
        "  wf = wave.open('/content/standardized/'+filename, \"rb\")\n",
        "  if wf.getnchannels() != 1 or wf.getsampwidth() != 2 or wf.getcomptype() != \"NONE\":\n",
        "      print (\"Audio file must be WAV format mono PCM.\")\n",
        "      exit (1)\n",
        "\n",
        "  \n",
        "\n",
        "  # You can also init model by name or with a folder path\n",
        "  # model = Model(model_name=\"vosk-model-en-us-0.21\")\n",
        "  # model = Model(\"models/en\")\n",
        "\n",
        "  rec = KaldiRecognizer(model, wf.getframerate())\n",
        "  rec.SetWords(True)\n",
        "  rec.SetPartialWords(True)\n",
        "  final_text = \"\"\n",
        "  while True:\n",
        "      data = wf.readframes(200000)\n",
        "      if len(data) == 0:\n",
        "          break\n",
        "      if rec.AcceptWaveform(data):\n",
        "          #print(rec.Result())\n",
        "          pass\n",
        "      else:\n",
        "          #print(rec.PartialResult())\n",
        "          pass\n",
        "\n",
        "  #print(rec.FinalResult())\n",
        "  res = json.loads(rec.FinalResult())\n",
        "  print (res['text'])\n",
        "  res['directory'] = file_path \n",
        "  return res \n",
        "\n",
        "\n",
        "def get_text_from_mp4(file_path,model): \n",
        "  #function to get text from mp4 file\n",
        "  # input : wavfile in str type \n",
        "  # model : the vosk model \n",
        "  # output :dictionary object with 3 keys : 'directory', 'text ' and 'result'\n",
        "\n",
        "  #convert mp4 to wav\n",
        "  wav_path = convert_mp4_to_wav(file_path)\n",
        "\n",
        "  #get text from the wav_file \n",
        "  return get_text(wav_path,model)\n"
      ],
      "metadata": {
        "id": "z91bw7gkfIig"
      },
      "execution_count": null,
      "outputs": []
    },
    {
      "cell_type": "code",
      "source": [
        "\n",
        "#setup model \n",
        "model = Model(lang=\"en-us\")"
      ],
      "metadata": {
        "id": "8CUlHv5DPW2S"
      },
      "execution_count": null,
      "outputs": []
    },
    {
      "cell_type": "code",
      "source": [
        "# get text from wav file path \n",
        "get_text('/content/my_result.wav',model)\n",
        "\n",
        "# back_ground_noise_text\n",
        "#'text': \"i wonder if you could help me i'm interested in reading your \n",
        "#m b a program to give me some information please miss of course i'll take a few \n",
        "#details first of all and they'll give you a copy of our perspectives oh that's can't \n",
        "#i already have one here i've been researching the have been a courses in the local area\"\n",
        "\n",
        "# no_back_ground_text \n",
        "#'text': \"haha i am interested in and railing in your m b a program could you give me some\n",
        "# information please of course i'll take a few details first of all and i'll give you a copy \n",
        "#of our prospectus oh that's okay i already have one here i've been researching the and be \n",
        "#a courses in the local area sale\"\n"
      ],
      "metadata": {
        "colab": {
          "base_uri": "https://localhost:8080/"
        },
        "id": "lfiEBGZSfzpE",
        "outputId": "16915536-cf13-40ff-9bcb-04b3ff92ecec"
      },
      "execution_count": null,
      "outputs": [
        {
          "output_type": "stream",
          "name": "stdout",
          "text": [
            "well i have equal rights for all except blacks asians hispanics jews gays women muslims everybody is not a white man and i mean white white you know italians know polish just people from ireland england and scotland but only certain parts of scotland and ireland just full blooded whites don't you know what not even white nobody gets any right ah america\n"
          ]
        },
        {
          "output_type": "execute_result",
          "data": {
            "text/plain": [
              "{'result': [{'conf': 0.894714, 'end': 0.18, 'start': 0.03, 'word': 'well'},\n",
              "  {'conf': 0.817192, 'end': 0.209113, 'start': 0.18, 'word': 'i'},\n",
              "  {'conf': 1.0, 'end': 0.36, 'start': 0.209113, 'word': 'have'},\n",
              "  {'conf': 1.0, 'end': 0.81, 'start': 0.42, 'word': 'equal'},\n",
              "  {'conf': 1.0, 'end': 1.11, 'start': 0.81, 'word': 'rights'},\n",
              "  {'conf': 1.0, 'end': 1.32, 'start': 1.11, 'word': 'for'},\n",
              "  {'conf': 1.0, 'end': 1.65, 'start': 1.32, 'word': 'all'},\n",
              "  {'conf': 1.0, 'end': 2.46, 'start': 2.13, 'word': 'except'},\n",
              "  {'conf': 1.0, 'end': 2.85, 'start': 2.46, 'word': 'blacks'},\n",
              "  {'conf': 1.0, 'end': 3.3, 'start': 2.88, 'word': 'asians'},\n",
              "  {'conf': 1.0, 'end': 3.84, 'start': 3.3, 'word': 'hispanics'},\n",
              "  {'conf': 1.0, 'end': 4.2, 'start': 3.84, 'word': 'jews'},\n",
              "  {'conf': 0.453179, 'end': 4.53, 'start': 4.2, 'word': 'gays'},\n",
              "  {'conf': 1.0, 'end': 4.95, 'start': 4.534, 'word': 'women'},\n",
              "  {'conf': 1.0, 'end': 5.67, 'start': 4.98, 'word': 'muslims'},\n",
              "  {'conf': 1.0, 'end': 7.02, 'start': 6.63, 'word': 'everybody'},\n",
              "  {'conf': 0.735508, 'end': 7.11, 'start': 7.02, 'word': 'is'},\n",
              "  {'conf': 1.0, 'end': 7.29, 'start': 7.11, 'word': 'not'},\n",
              "  {'conf': 1.0, 'end': 7.35, 'start': 7.29, 'word': 'a'},\n",
              "  {'conf': 1.0, 'end': 7.59, 'start': 7.35, 'word': 'white'},\n",
              "  {'conf': 1.0, 'end': 7.92, 'start': 7.59, 'word': 'man'},\n",
              "  {'conf': 1.0, 'end': 8.52, 'start': 8.4, 'word': 'and'},\n",
              "  {'conf': 1.0, 'end': 8.55, 'start': 8.52, 'word': 'i'},\n",
              "  {'conf': 1.0, 'end': 8.7, 'start': 8.55, 'word': 'mean'},\n",
              "  {'conf': 1.0, 'end': 9.06, 'start': 8.7, 'word': 'white'},\n",
              "  {'conf': 0.690402, 'end': 9.39, 'start': 9.06, 'word': 'white'},\n",
              "  {'conf': 0.437088, 'end': 9.51, 'start': 9.400029, 'word': 'you'},\n",
              "  {'conf': 0.437088, 'end': 9.63, 'start': 9.51, 'word': 'know'},\n",
              "  {'conf': 1.0, 'end': 10.229999, 'start': 9.63, 'word': 'italians'},\n",
              "  {'conf': 0.529101, 'end': 10.409999, 'start': 10.229999, 'word': 'know'},\n",
              "  {'conf': 1.0, 'end': 10.92, 'start': 10.41, 'word': 'polish'},\n",
              "  {'conf': 1.0, 'end': 11.34, 'start': 11.16, 'word': 'just'},\n",
              "  {'conf': 1.0, 'end': 11.61, 'start': 11.34, 'word': 'people'},\n",
              "  {'conf': 1.0, 'end': 11.79, 'start': 11.61, 'word': 'from'},\n",
              "  {'conf': 1.0, 'end': 12.3, 'start': 11.82, 'word': 'ireland'},\n",
              "  {'conf': 1.0, 'end': 12.66, 'start': 12.3, 'word': 'england'},\n",
              "  {'conf': 1.0, 'end': 12.75, 'start': 12.66, 'word': 'and'},\n",
              "  {'conf': 1.0, 'end': 13.26, 'start': 12.75, 'word': 'scotland'},\n",
              "  {'conf': 1.0, 'end': 13.89, 'start': 13.74, 'word': 'but'},\n",
              "  {'conf': 1.0, 'end': 14.07, 'start': 13.89, 'word': 'only'},\n",
              "  {'conf': 1.0, 'end': 14.4, 'start': 14.07, 'word': 'certain'},\n",
              "  {'conf': 1.0, 'end': 14.67, 'start': 14.4, 'word': 'parts'},\n",
              "  {'conf': 1.0, 'end': 14.76, 'start': 14.67, 'word': 'of'},\n",
              "  {'conf': 1.0, 'end': 15.18, 'start': 14.76, 'word': 'scotland'},\n",
              "  {'conf': 1.0, 'end': 15.27, 'start': 15.18, 'word': 'and'},\n",
              "  {'conf': 1.0, 'end': 15.63, 'start': 15.27, 'word': 'ireland'},\n",
              "  {'conf': 1.0, 'end': 16.32, 'start': 16.08, 'word': 'just'},\n",
              "  {'conf': 1.0, 'end': 16.62, 'start': 16.32, 'word': 'full'},\n",
              "  {'conf': 1.0, 'end': 17.01, 'start': 16.62, 'word': 'blooded'},\n",
              "  {'conf': 0.458844, 'end': 17.49, 'start': 17.01, 'word': 'whites'},\n",
              "  {'conf': 0.432609, 'end': 18.08688, 'start': 17.91, 'word': \"don't\"},\n",
              "  {'conf': 1.0, 'end': 18.15, 'start': 18.08688, 'word': 'you'},\n",
              "  {'conf': 1.0, 'end': 18.24, 'start': 18.15, 'word': 'know'},\n",
              "  {'conf': 1.0, 'end': 18.45, 'start': 18.24, 'word': 'what'},\n",
              "  {'conf': 1.0, 'end': 18.87, 'start': 18.69, 'word': 'not'},\n",
              "  {'conf': 1.0, 'end': 19.05, 'start': 18.87, 'word': 'even'},\n",
              "  {'conf': 0.594862, 'end': 19.41, 'start': 19.05, 'word': 'white'},\n",
              "  {'conf': 1.0, 'end': 20.07, 'start': 19.77, 'word': 'nobody'},\n",
              "  {'conf': 1.0, 'end': 20.25, 'start': 20.07, 'word': 'gets'},\n",
              "  {'conf': 1.0, 'end': 20.4, 'start': 20.25, 'word': 'any'},\n",
              "  {'conf': 1.0, 'end': 20.76, 'start': 20.4, 'word': 'right'},\n",
              "  {'conf': 0.502559, 'end': 22.05, 'start': 21.72, 'word': 'ah'},\n",
              "  {'conf': 1.0, 'end': 22.86, 'start': 22.17, 'word': 'america'}],\n",
              " 'text': \"well i have equal rights for all except blacks asians hispanics jews gays women muslims everybody is not a white man and i mean white white you know italians know polish just people from ireland england and scotland but only certain parts of scotland and ireland just full blooded whites don't you know what not even white nobody gets any right ah america\"}"
            ]
          },
          "metadata": {},
          "execution_count": 10
        }
      ]
    },
    {
      "cell_type": "markdown",
      "source": [
        "MP4 processing"
      ],
      "metadata": {
        "id": "7MURf7zHNMkB"
      }
    },
    {
      "cell_type": "code",
      "source": [
        "#setup model \n",
        "model = Model(lang=\"en-us\")\n",
        "# convert mp4 to wav\n",
        "wav_path = convert_mp4_to_wav('/content/yoodli_Untitled_Speech.mp4')\n",
        "# extract text from wav file \n",
        "get_text(wav_path,model)"
      ],
      "metadata": {
        "id": "3wpmb2SJNDyO"
      },
      "execution_count": null,
      "outputs": []
    },
    {
      "cell_type": "markdown",
      "source": [
        "\n",
        "\n",
        "\n",
        "Test auto correct\n"
      ],
      "metadata": {
        "id": "1AEHNKorKepE"
      }
    },
    {
      "cell_type": "code",
      "source": [
        "!pip3 install autocorrect"
      ],
      "metadata": {
        "colab": {
          "base_uri": "https://localhost:8080/"
        },
        "id": "kHJgbUqJ-y9D",
        "outputId": "3a199a99-7a45-417a-8d7a-47db84ca6cd8"
      },
      "execution_count": null,
      "outputs": [
        {
          "output_type": "stream",
          "name": "stdout",
          "text": [
            "Looking in indexes: https://pypi.org/simple, https://us-python.pkg.dev/colab-wheels/public/simple/\n",
            "Collecting autocorrect\n",
            "  Downloading autocorrect-2.6.1.tar.gz (622 kB)\n",
            "\u001b[K     |████████████████████████████████| 622 kB 5.1 MB/s \n",
            "\u001b[?25hBuilding wheels for collected packages: autocorrect\n",
            "  Building wheel for autocorrect (setup.py) ... \u001b[?25l\u001b[?25hdone\n",
            "  Created wheel for autocorrect: filename=autocorrect-2.6.1-py3-none-any.whl size=622382 sha256=d941b4bfe5b07f9396bfdfea717f34e45cf82386242dc0db5594bcb7527afc16\n",
            "  Stored in directory: /root/.cache/pip/wheels/54/d4/37/8244101ad50b0f7d9bffd93ce58ed7991ee1753b290923934b\n",
            "Successfully built autocorrect\n",
            "Installing collected packages: autocorrect\n",
            "Successfully installed autocorrect-2.6.1\n"
          ]
        }
      ]
    },
    {
      "cell_type": "code",
      "source": [
        "from autocorrect import Speller\n",
        "txt = \"now me as two days opposition's strongly believe that drug addict should be punished nowadays many you a nice take drug because they want to show off to their friends to phone few the sense of grow up if we had a hot punishment for drug addict young people would be deterred from taking the first drug which often lead to the second one and the third one and so on if we give kidman to them they would not be afraid of getting caught for using drugs and they would be like wow i can just take the first try and be addicted and then people will kurt me nothing will happen i can have new experience without paying back but in most case they are unlikely to always i when being addict people cannot control themselves a would do any crime to buy more truck with my lead to was a sequence than being cheated for drug addict in fact you can find many examples for this in real life for instance in twenty twenty there was a man killed his mother when he was high and he taught his mother was a monster to stop this case of devastating incidents we should be run people from taking dropped in the first place with punishment as a deterrent for young people when they won to take their first try\"\n",
        "spell = Speller()\n",
        "spell(txt)"
      ],
      "metadata": {
        "colab": {
          "base_uri": "https://localhost:8080/",
          "height": 122
        },
        "id": "fg2Bisqlf1IH",
        "outputId": "c334dc73-ea18-48ac-ac40-76bb8344e11b"
      },
      "execution_count": null,
      "outputs": [
        {
          "output_type": "execute_result",
          "data": {
            "text/plain": [
              "\"now me as two days opposition's strongly believe that drug addict should be punished nowadays many you a nice take drug because they want to show off to their friends to phone few the sense of grow up if we had a hot punishment for drug addict young people would be deferred from taking the first drug which often lead to the second one and the third one and so on if we give kidnap to them they would not be afraid of getting caught for using drugs and they would be like wow i can just take the first try and be addicted and then people will kurt me nothing will happen i can have new experience without paying back but in most case they are unlikely to always i when being addict people cannot control themselves a would do any crime to buy more truck with my lead to was a sequence than being cheated for drug addict in fact you can find many examples for this in real life for instance in twenty twenty there was a man killed his mother when he was high and he taught his mother was a monster to stop this case of devastating incidents we should be run people from taking dropped in the first place with punishment as a deterrent for young people when they won to take their first try\""
            ],
            "application/vnd.google.colaboratory.intrinsic+json": {
              "type": "string"
            }
          },
          "metadata": {},
          "execution_count": 27
        }
      ]
    }
  ]
}